{
 "cells": [
  {
   "cell_type": "code",
   "execution_count": 1,
   "metadata": {},
   "outputs": [],
   "source": [
    "import mysql.connector\n",
    "from mysql.connector import Error"
   ]
  },
  {
   "cell_type": "code",
   "execution_count": 2,
   "metadata": {},
   "outputs": [],
   "source": [
    "def create_db_connection(host_name, user_name, user_password, db_name):\n",
    "    connection = None\n",
    "\n",
    "    try:\n",
    "        connection = mysql.connector.connect(\n",
    "            host = host_name, \n",
    "            user = user_name,\n",
    "            password = user_password,\n",
    "            database = db_name\n",
    "        )\n",
    "\n",
    "        print('MySQL Database connection successful')\n",
    "    except Error as err:\n",
    "        print(f'Error: \"{err}\"')\n",
    "    \n",
    "    return connection \n"
   ]
  },
  {
   "cell_type": "code",
   "execution_count": 3,
   "metadata": {},
   "outputs": [
    {
     "name": "stdout",
     "output_type": "stream",
     "text": [
      "MySQL Database connection successful\n"
     ]
    }
   ],
   "source": [
    "host = '..............'\n",
    "user = 'root'\n",
    "password = '.........'\n",
    "database = 'mininet_db'\n",
    "\n",
    "connection = create_db_connection(host, user, password, database)"
   ]
  },
  {
   "cell_type": "code",
   "execution_count": 4,
   "metadata": {},
   "outputs": [
    {
     "name": "stdout",
     "output_type": "stream",
     "text": [
      "bytearray(b'Actors')\n",
      "bytearray(b'FavoriteMovies')\n",
      "bytearray(b'MovieActors')\n",
      "bytearray(b'Movies')\n",
      "bytearray(b'Reviews')\n",
      "bytearray(b'Subscriptions')\n",
      "bytearray(b'Users')\n"
     ]
    }
   ],
   "source": [
    "cursor = connection.cursor()\n",
    "cursor.execute('SHOW TABLES;')\n",
    "\n",
    "for (databases) in cursor:\n",
    "    print(databases[0])"
   ]
  },
  {
   "cell_type": "code",
   "execution_count": 7,
   "metadata": {},
   "outputs": [],
   "source": [
    "def showUserInformation():\n",
    "    UserName = input(\"What is your name (e.g. 'mary_james')?\")\n",
    "    query =\"\"\"  \n",
    "    SELECT U.User_id, U.Name, U.Email, U.Password, S.SubscriptionType, U.City, U.Country \n",
    "    FROM Users AS U, Subscriptions AS S\n",
    "    WHERE U.Subscription_id = S.Subscription_id\n",
    "    AND S.SubscriptionType = 'HD'\n",
    "    AND U.Name = %s;\n",
    "    \"\"\"\n",
    "    cursor= connection.cursor()\n",
    "    cursor.execute(query, (UserName,))\n",
    "    results = cursor.fetchall()\n",
    "    \n",
    "    if results:\n",
    "        print(\"User Information:\")\n",
    "        for result in results:\n",
    "            print(result)        \n",
    "    else:\n",
    "        print(\"No user found with given name and HD subscription\")\n",
    "\n",
    "    cursor.close()"
   ]
  },
  {
   "cell_type": "code",
   "execution_count": 8,
   "metadata": {},
   "outputs": [
    {
     "name": "stdout",
     "output_type": "stream",
     "text": [
      "User Information:\n",
      "(1, 'john_doe', 'john@example.com', 'password1', 'HD', 'New York', 'USA')\n"
     ]
    }
   ],
   "source": [
    "showUserInformation()"
   ]
  },
  {
   "cell_type": "code",
   "execution_count": 9,
   "metadata": {},
   "outputs": [],
   "source": [
    "def showActorMovieInformation():\n",
    "    ActorName = input(\"What is actor's name (e.g. 'Millie Bobby Brown')?\")\n",
    "    query =\"\"\"  \n",
    "    SELECT A. Actor_id, A.Name, A.City, A.DateOfBirth, M. Movie_id, M.Title, M.Genre, M.ReleaseDate, M.ContentType\n",
    "    FROM Actors AS A, Movies AS M, MovieActors AS MA\n",
    "    WHERE MA.Actor_id = A.Actor_id\n",
    "    AND MA.Movie_id = M.Movie_id\n",
    "    AND A.Name = %s;\n",
    "    \"\"\"\n",
    "    cursor= connection.cursor()\n",
    "    cursor.execute(query, (ActorName,))\n",
    "    results = cursor.fetchall()\n",
    "    \n",
    "    if results:\n",
    "        print(\"Actor Information:\")\n",
    "        for result in results:\n",
    "            print(result)        \n",
    "    else:\n",
    "        print(\"No actor found with given name\")\n",
    "\n",
    "    cursor.close()"
   ]
  },
  {
   "cell_type": "code",
   "execution_count": 10,
   "metadata": {},
   "outputs": [
    {
     "name": "stdout",
     "output_type": "stream",
     "text": [
      "Actor Information:\n",
      "(1, 'Millie Bobby Brown', 'Los Angeles', datetime.date(2004, 2, 19), 1, 'Stranger Things', 'Sci-Fi', datetime.date(2016, 7, 15), 'TV show')\n"
     ]
    }
   ],
   "source": [
    "showActorMovieInformation()"
   ]
  },
  {
   "cell_type": "code",
   "execution_count": 11,
   "metadata": {},
   "outputs": [],
   "source": [
    "def showNumberOfActorsCity():\n",
    "    City = input(\"What is city name (e.g. 'Hollywood')?\")\n",
    "    query =\"\"\"  \n",
    "    SELECT City, COUNT(City) AS NumberOfActors, ROUND (AVG (DATEDIFF(CURRENT_DATE, DateOfBirth) / 365.25), 1) AS AverageAge\n",
    "    FROM Actors\n",
    "    WHERE City = %s\n",
    "    GROUP BY City;\n",
    "    \"\"\"\n",
    "    cursor= connection.cursor()\n",
    "    cursor.execute(query, (City,))\n",
    "    results = cursor.fetchall()\n",
    "    \n",
    "    if results:\n",
    "        print(\"Number of actors from a specific city with average age:\")\n",
    "        for result in results:\n",
    "            print(result)        \n",
    "    else:\n",
    "        print(\"No city found with given name\")\n",
    "\n",
    "    cursor.close()"
   ]
  },
  {
   "cell_type": "code",
   "execution_count": 13,
   "metadata": {},
   "outputs": [
    {
     "name": "stdout",
     "output_type": "stream",
     "text": [
      "Number of actors from a specific city with average age:\n",
      "('Hollywood', 1, Decimal('68.3'))\n"
     ]
    }
   ],
   "source": [
    "showNumberOfActorsCity()"
   ]
  },
  {
   "cell_type": "code",
   "execution_count": 14,
   "metadata": {},
   "outputs": [],
   "source": [
    "def showUserGenreMovies():\n",
    "    UserName = input(\"What is user's name (e.g. 'mary_james')?\")\n",
    "    Genre = input(\"What is your favorite genre?\")\n",
    "    query =\"\"\"  \n",
    "    SELECT Users.Name, Movies.Movie_id, Movies.Title, Movies.Genre, Movies.ReleaseDate, Movies.ContentType FROM Users, Movies, FavoriteMovies\n",
    "    WHERE FavoriteMovies.Movie_id=Movies.Movie_id\n",
    "    AND FavoriteMovies.User_id=Users.User_id\n",
    "    AND Users.Name = %s\n",
    "    AND Genre = %s;\n",
    "    \"\"\"\n",
    "    cursor= connection.cursor()\n",
    "    cursor.execute(query, (UserName, Genre))\n",
    "    results = cursor.fetchall()\n",
    "    \n",
    "    if results:\n",
    "        print(\"Movies in the user's favorite genre:\")\n",
    "        for result in results:\n",
    "            print(result)        \n",
    "    else:\n",
    "        print(\"No users found with given username\")\n",
    "\n",
    "    cursor.close()"
   ]
  },
  {
   "cell_type": "code",
   "execution_count": 15,
   "metadata": {},
   "outputs": [
    {
     "name": "stdout",
     "output_type": "stream",
     "text": [
      "Movies in the user's favorite genre:\n",
      "('john_doe', 3, 'The Office', 'Comedy', datetime.date(2005, 3, 24), 'TV show')\n",
      "('john_doe', 4, 'Parks and Recreation', 'Comedy', datetime.date(2009, 4, 9), 'Movie')\n"
     ]
    }
   ],
   "source": [
    "showUserGenreMovies()"
   ]
  },
  {
   "cell_type": "code",
   "execution_count": 16,
   "metadata": {},
   "outputs": [],
   "source": [
    "def showSubscriptionsPerCountry():\n",
    "    Country = input(\"What is country's name (e.g. 'USA')?\")\n",
    "    query =\"\"\"  \n",
    "    SELECT Country, COUNT(*) AS SubscriptionCount\n",
    "    FROM Users\n",
    "    JOIN Subscriptions ON Users.Subscription_id = Subscriptions.Subscription_id\n",
    "    WHERE Country = %s\n",
    "    GROUP BY Country;\n",
    "    \"\"\"\n",
    "    cursor= connection.cursor()\n",
    "    cursor.execute(query, (Country,))\n",
    "    results = cursor.fetchall()\n",
    "    \n",
    "    if results:\n",
    "        print(\"Number of subscriptions for the specific country:\")\n",
    "        for result in results:\n",
    "            print(result)        \n",
    "    else:\n",
    "        print(\"No country found with given name\")\n",
    "\n",
    "    cursor.close()"
   ]
  },
  {
   "cell_type": "code",
   "execution_count": 17,
   "metadata": {},
   "outputs": [
    {
     "name": "stdout",
     "output_type": "stream",
     "text": [
      "Number of subscriptions for the specific country:\n",
      "('Canada', 1)\n"
     ]
    }
   ],
   "source": [
    "showSubscriptionsPerCountry()\n"
   ]
  },
  {
   "cell_type": "code",
   "execution_count": 135,
   "metadata": {},
   "outputs": [
    {
     "name": "stdout",
     "output_type": "stream",
     "text": [
      "Connection closed.\n"
     ]
    }
   ],
   "source": [
    "connection.close()\n",
    "print(\"Connection closed.\")"
   ]
  }
 ],
 "metadata": {
  "kernelspec": {
   "display_name": "Python 3",
   "language": "python",
   "name": "python3"
  },
  "language_info": {
   "codemirror_mode": {
    "name": "ipython",
    "version": 3
   },
   "file_extension": ".py",
   "mimetype": "text/x-python",
   "name": "python",
   "nbconvert_exporter": "python",
   "pygments_lexer": "ipython3",
   "version": "3.12.3"
  }
 },
 "nbformat": 4,
 "nbformat_minor": 2
}
